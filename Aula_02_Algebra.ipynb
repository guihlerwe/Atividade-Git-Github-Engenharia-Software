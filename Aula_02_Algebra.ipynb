{
  "nbformat": 4,
  "nbformat_minor": 0,
  "metadata": {
    "colab": {
      "provenance": [],
      "authorship_tag": "ABX9TyOFv2krDYjIGEpGaIhxS0PI",
      "include_colab_link": true
    },
    "kernelspec": {
      "name": "python3",
      "display_name": "Python 3"
    },
    "language_info": {
      "name": "python"
    }
  },
  "cells": [
    {
      "cell_type": "markdown",
      "metadata": {
        "id": "view-in-github",
        "colab_type": "text"
      },
      "source": [
        "<a href=\"https://colab.research.google.com/github/guihlerwe/Atividade-Git-Github-Engenharia-Software/blob/main/Aula_02_Algebra.ipynb\" target=\"_parent\"><img src=\"https://colab.research.google.com/assets/colab-badge.svg\" alt=\"Open In Colab\"/></a>"
      ]
    },
    {
      "cell_type": "code",
      "source": [
        "##Comentario"
      ],
      "metadata": {
        "id": "Ei0bHJ-RDIrr"
      },
      "execution_count": null,
      "outputs": []
    },
    {
      "cell_type": "markdown",
      "source": [
        "Variaveis"
      ],
      "metadata": {
        "id": "sG8PPMTSDr-E"
      }
    },
    {
      "cell_type": "code",
      "source": [
        "x = 10\n",
        "y = 10.5\n",
        "x = \"Gui\""
      ],
      "metadata": {
        "id": "Cuhyd4G5DtpU"
      },
      "execution_count": 16,
      "outputs": []
    },
    {
      "cell_type": "code",
      "source": [
        "print(x)"
      ],
      "metadata": {
        "colab": {
          "base_uri": "https://localhost:8080/"
        },
        "id": "Bt4sM-w1Ejok",
        "outputId": "c3a8dfa1-db94-4151-f599-fadc496ae1db"
      },
      "execution_count": 17,
      "outputs": [
        {
          "output_type": "stream",
          "name": "stdout",
          "text": [
            "Gui\n"
          ]
        }
      ]
    },
    {
      "cell_type": "code",
      "source": [
        "nome = \"Gui\"\n",
        "idade = 19\n",
        "salario = 5600.90\n",
        "mentiroso = True"
      ],
      "metadata": {
        "id": "0B-nx7hcE5kT"
      },
      "execution_count": 18,
      "outputs": []
    },
    {
      "cell_type": "markdown",
      "source": [
        "Tipos"
      ],
      "metadata": {
        "id": "g-O0XPs6FK2z"
      }
    },
    {
      "cell_type": "code",
      "source": [
        "type(\n",
        "    mentiroso\n",
        ")"
      ],
      "metadata": {
        "colab": {
          "base_uri": "https://localhost:8080/"
        },
        "id": "ilw3TznQFC2r",
        "outputId": "242a21f3-5397-4b7b-f0bd-58501184bb00"
      },
      "execution_count": 19,
      "outputs": [
        {
          "output_type": "execute_result",
          "data": {
            "text/plain": [
              "bool"
            ]
          },
          "metadata": {},
          "execution_count": 19
        }
      ]
    },
    {
      "cell_type": "markdown",
      "source": [
        "Operadores de Comparação"
      ],
      "metadata": {
        "id": "YmuUt4JFFQeS"
      }
    },
    {
      "cell_type": "code",
      "source": [
        "##declaração\n",
        "num1 = 10\n",
        "num2 = 20\n"
      ],
      "metadata": {
        "id": "lqszA3cJFSUm"
      },
      "execution_count": 20,
      "outputs": []
    },
    {
      "cell_type": "code",
      "source": [
        "num1 > num2"
      ],
      "metadata": {
        "colab": {
          "base_uri": "https://localhost:8080/"
        },
        "id": "2sX6An5HFo70",
        "outputId": "51b812b5-e71f-4a49-a563-8fdbc7f4fbe6"
      },
      "execution_count": 23,
      "outputs": [
        {
          "output_type": "execute_result",
          "data": {
            "text/plain": [
              "False"
            ]
          },
          "metadata": {},
          "execution_count": 23
        }
      ]
    },
    {
      "cell_type": "code",
      "source": [
        "num1 < num2"
      ],
      "metadata": {
        "colab": {
          "base_uri": "https://localhost:8080/"
        },
        "id": "F83wHdZlFzyr",
        "outputId": "cf359761-1030-464c-eb6a-9bb272d25a2b"
      },
      "execution_count": 24,
      "outputs": [
        {
          "output_type": "execute_result",
          "data": {
            "text/plain": [
              "True"
            ]
          },
          "metadata": {},
          "execution_count": 24
        }
      ]
    },
    {
      "cell_type": "code",
      "source": [
        "num1 == 10"
      ],
      "metadata": {
        "colab": {
          "base_uri": "https://localhost:8080/"
        },
        "id": "33p7zDxYF2zc",
        "outputId": "a4b470a3-8bab-4ca3-f5d5-62358dfde678"
      },
      "execution_count": 26,
      "outputs": [
        {
          "output_type": "execute_result",
          "data": {
            "text/plain": [
              "True"
            ]
          },
          "metadata": {},
          "execution_count": 26
        }
      ]
    },
    {
      "cell_type": "code",
      "source": [
        "num2 <= 10"
      ],
      "metadata": {
        "colab": {
          "base_uri": "https://localhost:8080/"
        },
        "id": "oaYIV5jPF9JD",
        "outputId": "5c546317-b264-4688-e785-6e56929111de"
      },
      "execution_count": 27,
      "outputs": [
        {
          "output_type": "execute_result",
          "data": {
            "text/plain": [
              "False"
            ]
          },
          "metadata": {},
          "execution_count": 27
        }
      ]
    },
    {
      "cell_type": "markdown",
      "source": [
        "Operadores Lógicos"
      ],
      "metadata": {
        "id": "8M01lqA9GhE9"
      }
    },
    {
      "cell_type": "code",
      "source": [
        "a = True\n",
        "b = False"
      ],
      "metadata": {
        "id": "fUTP8LwtGjkz"
      },
      "execution_count": 30,
      "outputs": []
    },
    {
      "cell_type": "code",
      "source": [
        "(a and a)"
      ],
      "metadata": {
        "colab": {
          "base_uri": "https://localhost:8080/"
        },
        "id": "w6HFi81KLLYW",
        "outputId": "17ebe4fc-a53d-424b-ef6d-db3b09fda176"
      },
      "execution_count": 31,
      "outputs": [
        {
          "output_type": "execute_result",
          "data": {
            "text/plain": [
              "True"
            ]
          },
          "metadata": {},
          "execution_count": 31
        }
      ]
    },
    {
      "cell_type": "code",
      "source": [
        "a or a"
      ],
      "metadata": {
        "colab": {
          "base_uri": "https://localhost:8080/"
        },
        "id": "ptHSyWEeLP6-",
        "outputId": "46b2b54f-333e-4be5-ee71-5e7ad73e3a9c"
      },
      "execution_count": 33,
      "outputs": [
        {
          "output_type": "execute_result",
          "data": {
            "text/plain": [
              "True"
            ]
          },
          "metadata": {},
          "execution_count": 33
        }
      ]
    },
    {
      "cell_type": "code",
      "source": [
        "b and b"
      ],
      "metadata": {
        "colab": {
          "base_uri": "https://localhost:8080/"
        },
        "id": "KVL3QS2uLhK_",
        "outputId": "0da95a13-9b43-464b-f5be-6ef809caad68"
      },
      "execution_count": 34,
      "outputs": [
        {
          "output_type": "execute_result",
          "data": {
            "text/plain": [
              "False"
            ]
          },
          "metadata": {},
          "execution_count": 34
        }
      ]
    },
    {
      "cell_type": "code",
      "source": [
        "b or b"
      ],
      "metadata": {
        "colab": {
          "base_uri": "https://localhost:8080/"
        },
        "id": "PhbLoRQXLjlw",
        "outputId": "ab2841d4-7e83-480f-f79f-8bda42e031e0"
      },
      "execution_count": 35,
      "outputs": [
        {
          "output_type": "execute_result",
          "data": {
            "text/plain": [
              "False"
            ]
          },
          "metadata": {},
          "execution_count": 35
        }
      ]
    },
    {
      "cell_type": "code",
      "source": [
        "not (b or b)"
      ],
      "metadata": {
        "colab": {
          "base_uri": "https://localhost:8080/"
        },
        "id": "o-s4-CUALmMv",
        "outputId": "fdf3ad94-a4ff-4af4-e862-da82a2c82fc9"
      },
      "execution_count": 36,
      "outputs": [
        {
          "output_type": "execute_result",
          "data": {
            "text/plain": [
              "True"
            ]
          },
          "metadata": {},
          "execution_count": 36
        }
      ]
    },
    {
      "cell_type": "code",
      "source": [
        "b or b"
      ],
      "metadata": {
        "colab": {
          "base_uri": "https://localhost:8080/"
        },
        "id": "KtgjJfrXLzB3",
        "outputId": "350bf896-1296-4702-8306-70eab8f5b843"
      },
      "execution_count": 37,
      "outputs": [
        {
          "output_type": "execute_result",
          "data": {
            "text/plain": [
              "False"
            ]
          },
          "metadata": {},
          "execution_count": 37
        }
      ]
    },
    {
      "cell_type": "code",
      "source": [
        "(a or b) and b"
      ],
      "metadata": {
        "colab": {
          "base_uri": "https://localhost:8080/"
        },
        "id": "_fqXRO6oL0kn",
        "outputId": "b5d97756-26f9-4a42-a481-8ac3bd372ba6"
      },
      "execution_count": 38,
      "outputs": [
        {
          "output_type": "execute_result",
          "data": {
            "text/plain": [
              "False"
            ]
          },
          "metadata": {},
          "execution_count": 38
        }
      ]
    },
    {
      "cell_type": "markdown",
      "source": [
        "Codicionais simples"
      ],
      "metadata": {
        "id": "qeGhBD8gMJ2w"
      }
    },
    {
      "cell_type": "code",
      "source": [
        "idade = 1\n",
        "if idade >=18:\n",
        "  print(\"maior de idade\")\n",
        "else:\n",
        "  print(\"menor de idade\")\n",
        "\n",
        "#tem que estar alinha IF e ELSE para o funcionamento do código"
      ],
      "metadata": {
        "colab": {
          "base_uri": "https://localhost:8080/"
        },
        "id": "rRSJgliTMMw_",
        "outputId": "dd78e4c3-4c84-4b1e-954e-0d9c4656a41b"
      },
      "execution_count": 43,
      "outputs": [
        {
          "output_type": "stream",
          "name": "stdout",
          "text": [
            "menor de idade\n"
          ]
        }
      ]
    },
    {
      "cell_type": "code",
      "source": [
        "idade = 18\n",
        "if idade < 10:\n",
        "  print(\"infantil\")\n",
        "elif (idade >= 10) and (idade<18):\n",
        "  print(\"jovem\")\n",
        "elif (idade >= 18) and (idade<60):\n",
        "  print(\"adulto\")\n",
        "else:\n",
        "  print (\"velhote\")"
      ],
      "metadata": {
        "colab": {
          "base_uri": "https://localhost:8080/"
        },
        "outputId": "ab6a10ee-64af-4cdd-c7be-caa59b0b48de",
        "id": "1VwZaL4IODp4"
      },
      "execution_count": 46,
      "outputs": [
        {
          "output_type": "stream",
          "name": "stdout",
          "text": [
            "adulto\n"
          ]
        }
      ]
    }
  ]
}